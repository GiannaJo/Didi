{
 "cells": [
  {
   "cell_type": "code",
   "execution_count": 14,
   "metadata": {
    "collapsed": false
   },
   "outputs": [
    {
     "name": "stdout",
     "output_type": "stream",
     "text": [
      "('gap distribution from 1-144, total =', 83319)\n",
      "('gap distribution from 36-144, total =', 68995)\n"
     ]
    },
    {
     "name": "stderr",
     "output_type": "stream",
     "text": [
      "E:\\Miniconda2\\lib\\site-packages\\ipykernel\\__main__.py:39: SettingWithCopyWarning: \n",
      "A value is trying to be set on a copy of a slice from a DataFrame.\n",
      "Try using .loc[row_indexer,col_indexer] = value instead\n",
      "\n",
      "See the caveats in the documentation: http://pandas.pydata.org/pandas-docs/stable/indexing.html#indexing-view-versus-copy\n",
      "E:\\Miniconda2\\lib\\site-packages\\ipykernel\\__main__.py:40: SettingWithCopyWarning: \n",
      "A value is trying to be set on a copy of a slice from a DataFrame.\n",
      "Try using .loc[row_indexer,col_indexer] = value instead\n",
      "\n",
      "See the caveats in the documentation: http://pandas.pydata.org/pandas-docs/stable/indexing.html#indexing-view-versus-copy\n"
     ]
    },
    {
     "data": {
      "image/png": "[encoded data removed]",
      "text/plain": [
       "<matplotlib.figure.Figure at 0xe314550>"
      ]
     },
     "metadata": {},
     "output_type": "display_data"
    },
    {
     "data": {
      "image/png": "[encoded data removed]",
      "text/plain": [
       "<matplotlib.figure.Figure at 0x31ef4a20>"
      ]
     },
     "metadata": {},
     "output_type": "display_data"
    },
    {
     "data": {
      "image/png": "[encoded data removed]",
      "text/plain": [
       "<matplotlib.figure.Figure at 0x1eb252b0>"
      ]
     },
     "metadata": {},
     "output_type": "display_data"
    }
   ],
   "source": [
    "%matplotlib inline\n",
    "import datetime\n",
    "import pandas as pd\n",
    "import re\n",
    "import matplotlib.pyplot as plt\n",
    "\n",
    "def is_weekend(day):\n",
    "    return ((day % 7 == 2) | (day % 7 == 3) | (day == 1))\n",
    "\n",
    "data = pd.DataFrame.from_csv('training_data_xiaonan_update.csv', index_col=None)\n",
    "print('gap distribution from 1-144, total =', data.loc[(data['gap']<10)].shape[0] ) \n",
    "pd.DataFrame.hist(data.loc[data['gap']<11], column = 'gap', normed=True)\n",
    "\n",
    "# only consider the time slot to test\n",
    "print('gap distribution from 36-144, total =', data.loc[(data['gap']<10) & (data['slot'] > 35)].shape[0] ) \n",
    "pd.DataFrame.hist(data.loc[(data['gap']<11) & (data['slot'] > 35)], column = 'gap', normed=True)\n",
    "\n",
    "# show test time-slot distribution\n",
    "pd.DataFrame.hist(data.loc[(data['gap']<11) & ((data['slot'] % 12 == 10) &(data['slot'] > 40))]\\\n",
    "                  , column = 'gap', normed=True)\n",
    "\n",
    "grouped = data.groupby([is_weekend(data['day']),  'slot'])\n",
    "gap_grouped = grouped['gap'].sum().reset_index(name = 'gap_count')\n",
    "gap_grouped['inc_rate'] = 0.1;\n",
    "for i in gap_grouped.index:\n",
    "    if i > 3:\n",
    "        t = gap_grouped.xs(i)['gap_count'];\n",
    "        s =  0;\n",
    "        for j in range(1,4):\n",
    "            s = s + gap_grouped.xs(i-j)['gap_count']\n",
    "        s = s*1.0/3.0     \n",
    "        gap_grouped.set_value(i,'inc_rate', (t-s)*1.0/s )\n",
    "\n",
    "gap_grouped = gap_grouped.set_index(['day','slot'])\n",
    "\n",
    "groupedzone = data.groupby(['zone_id'])\n",
    "gap_zone = groupedzone['gap'].sum().reset_index(name = 'gap_zone')\n",
    "\n",
    "data = data.loc[data['slot'] > start_timeslot]\n",
    "data['gap_mean'] = data.apply(lambda x: (x['gap_past1']+x['gap_past2']+x['gap_past3'])/3\\\n",
    "                                       , axis=1)\n",
    "data['dif_gap'] = data.apply(lambda x: gap_grouped.xs([is_weekend(x['day']), x['slot']])['inc_rate']\\\n",
    "                                        *x['gap_mean'], axis=1)\n",
    "\n",
    "data = data.merge(gap_zone, how='left', on='zone_id')"
   ]
  },
  {
   "cell_type": "code",
   "execution_count": 55,
   "metadata": {
    "collapsed": false
   },
   "outputs": [
    {
     "ename": "ImportError",
     "evalue": "cannot import name MLPRegressor",
     "output_type": "error",
     "traceback": [
      "\u001b[1;31m---------------------------------------------------------------------------\u001b[0m",
      "\u001b[1;31mImportError\u001b[0m                               Traceback (most recent call last)",
      "\u001b[1;32m<ipython-input-55-c670b6445e8f>\u001b[0m in \u001b[0;36m<module>\u001b[1;34m()\u001b[0m\n\u001b[0;32m     13\u001b[0m \u001b[1;32mfrom\u001b[0m \u001b[0msklearn\u001b[0m\u001b[1;33m.\u001b[0m\u001b[0mensemble\u001b[0m \u001b[1;32mimport\u001b[0m \u001b[0mGradientBoostingClassifier\u001b[0m\u001b[1;33m\u001b[0m\u001b[0m\n\u001b[0;32m     14\u001b[0m \u001b[1;32mfrom\u001b[0m \u001b[0msklearn\u001b[0m\u001b[1;33m.\u001b[0m\u001b[0mensemble\u001b[0m \u001b[1;32mimport\u001b[0m \u001b[0mGradientBoostingRegressor\u001b[0m\u001b[1;33m\u001b[0m\u001b[0m\n\u001b[1;32m---> 15\u001b[1;33m \u001b[1;32mfrom\u001b[0m \u001b[0msklearn\u001b[0m\u001b[1;33m.\u001b[0m\u001b[0mneural_network\u001b[0m \u001b[1;32mimport\u001b[0m \u001b[0mMLPRegressor\u001b[0m\u001b[1;33m\u001b[0m\u001b[0m\n\u001b[0m\u001b[0;32m     16\u001b[0m \u001b[1;33m\u001b[0m\u001b[0m\n\u001b[0;32m     17\u001b[0m \u001b[0mdate_boundary\u001b[0m \u001b[1;33m=\u001b[0m \u001b[1;36m7\u001b[0m\u001b[1;33m;\u001b[0m\u001b[1;33m\u001b[0m\u001b[0m\n",
      "\u001b[1;31mImportError\u001b[0m: cannot import name MLPRegressor"
     ]
    }
   ],
   "source": [
    "#training and evaluation\n",
    "from sklearn_pandas import DataFrameMapper\n",
    "import numpy as np\n",
    "from numpy import matlib\n",
    "import sklearn.preprocessing, sklearn.decomposition, sklearn.pipeline, sklearn.metrics\n",
    "from sklearn import cross_validation, linear_model\n",
    "from sklearn.feature_extraction.text import CountVectorizer\n",
    "from sklearn.feature_selection import SelectKBest\n",
    "from sklearn.feature_selection import chi2\n",
    "from sklearn import svm\n",
    "from sklearn import ensemble\n",
    "from sklearn.multiclass import OneVsRestClassifier\n",
    "from sklearn.ensemble import GradientBoostingClassifier\n",
    "from sklearn.ensemble import GradientBoostingRegressor\n",
    "\n",
    "date_boundary = 7;\n",
    "start_timeslot =  35;\n",
    "\n",
    "def mean_absolute_percentage_error(y_true, y_pred): \n",
    "    return np.sum(np.abs((y_true - y_pred)*1.0 / y_true))*1.0/((144-start_timeslot)*66*(date_boundary))\n",
    "\n",
    "def model_train_test(data, features):\n",
    "    #mapper from panda dataframe to sklearn supported numpy array, instruction: https://pypi.python.org/pypi/sklearn-pandas\n",
    "    feature_mapper = DataFrameMapper(features)\n",
    "    target_mapper = DataFrameMapper([(['gap'], None)])\n",
    "\n",
    "    #remove the data where time slot is 1~3\n",
    "    crop_data = data.loc[data['slot'] > start_timeslot]\n",
    "    X_train = feature_mapper.fit_transform(crop_data.loc[crop_data['day'] > date_boundary].copy())\n",
    "    X_test = feature_mapper.fit_transform(crop_data.loc[crop_data['day'] <= date_boundary].copy())\n",
    "    y_train = target_mapper.fit_transform(crop_data.loc[crop_data['day'] > date_boundary].copy())\n",
    "    y_test = target_mapper.fit_transform(crop_data.loc[crop_data['day'] <= date_boundary].copy())\n",
    "    X_train[:,0] = is_weekend(X_train[:,0])\n",
    "    X_test[:,0] = is_weekend(X_test[:,0])\n",
    "\n",
    "    print \"training size:{0}, test size:{1}\".format(X_train.shape, X_test.shape)\n",
    "\n",
    "    print \"features\", feature_mapper.features\n",
    "    #linear regression with loss function transformed with zone_id\n",
    "    lm = linear_model.LinearRegression(fit_intercept = False)\n",
    "    lm.fit(np.divide(X_train, matlib.repmat(y_train, 1,X_train.shape[1])), np.ones((y_train.shape[0], 1)))\n",
    "    y_pred = lm.predict(X_test)\n",
    "    print(\"MAPE for Linear Regression transfromed with zone_id: %.4f\"\n",
    "         % mean_absolute_percentage_error(y_test, y_pred))\n",
    "\n",
    "    #linear regression with loss function transformed with zone_id, round to int\n",
    "    lm = linear_model.LinearRegression(fit_intercept = False)\n",
    "    lm.fit(np.divide(X_train, matlib.repmat(y_train, 1,X_train.shape[1])), np.ones((y_train.shape[0], 1)))\n",
    "    y_pred = np.round(lm.predict(X_test))\n",
    "    print(\"MAPE for Linear Regression transfromed with zone_id and rounded: %.4f\"\n",
    "         % mean_absolute_percentage_error(y_test, y_pred))\n",
    "    \n",
    "    #nn\n",
    "    \n",
    "    \n",
    "    \n",
    "#     k = 3\n",
    "#     X_train = feature_mapper.fit_transform(crop_data.loc[(crop_data['day'] > date_boundary) & (crop_data['gap']<=k)].copy())\n",
    "#     y_train = target_mapper.fit_transform(crop_data.loc[(crop_data['day'] > date_boundary) & (crop_data['gap']<=k)].copy())\n",
    "\n",
    "\n",
    "\n",
    "#     #gradient boosted classifier\n",
    "#     clf = GradientBoostingClassifier(n_estimators=150, learning_rate=0.1, subsample=1,\\\n",
    "#                                  max_depth=3, random_state=0).fit(X_train, y_train)\n",
    "#     y_clf = clf.predict(X_test).reshape(y_test.shape[0],1)\n",
    "#     print(\"MAPE for GBDT classifier: %.4f\"\n",
    "#          % mean_absolute_percentage_error(y_test, y_clf))\n",
    "\n",
    "\n",
    "#     #mix model\n",
    "#     y_mix = (y_clf >= k) * y_pred + y_clf * (y_clf < k)\n",
    "#     print(\"MAPE for mix GBDT classifier and linear regression: %.4f\"\n",
    "#          % mean_absolute_percentage_error(y_test, y_mix))\n",
    "\n",
    "    \n",
    "    \n",
    "    \n",
    "    \n",
    "#     #feature selection for classification\n",
    "#     ch2 =  SelectKBest(chi2, k=35)\n",
    "#     X_train = ch2.fit_transform(X_train, y_train.reshape(y_train.shape[0])>1)\n",
    "#     X_test = ch2.transform(X_test)\n",
    "\n",
    "#     #logistic regression\n",
    "#     logreg = linear_model.LogisticRegression(C=1e5)\n",
    "#     logreg.fit(X_train, y_train.reshape(y_train.shape[0]) > 1)\n",
    "\n",
    "#     y_clf = logreg.predict(X_test).reshape(y_test.shape[0],1)\n",
    "#     y_pred = np.ones((y_test.shape[0], 1)) + y_clf\n",
    "#     print(\"MAPE for Logistic Regression: %.4f\"\n",
    "#          % mean_absolute_percentage_error(y_test, y_pred))\n",
    "\n",
    "#     #svm\n",
    "#     clf = svm.LinearSVC()\n",
    "#     clf.fit(X_train, y_train.reshape(y_train.shape[0]) > 1)\n",
    "\n",
    "#     y_clf = clf.predict(X_test).reshape(y_test.shape[0],1)\n",
    "#     y_pred = np.ones((y_test.shape[0], 1)) + y_clf\n",
    "#     print(\"MAPE for SVM: %.4f\"\n",
    "#          % mean_absolute_percentage_error(y_test, y_pred))\n",
    "    \n",
    "    # gradient boost tree\n",
    "    #params = {'loss': 'ls', 'n_estimators': 50, 'max_depth': 8, 'subsample': 0.7}\n",
    "    #clf = ensemble.GradientBoostingRegressor(**params)\n",
    "    #clf.fit(X_train,y_train.reshape(y_train.shape[0]))\n",
    "    #y_pred = clf.predict(X_test)\n",
    "    #print(\"MAPE for gradient boost: %.4f\"\n",
    "    #     % mean_absolute_percentage_error(y_test, y_pred))    \n",
    "\n",
    "    # #feature selection + linear regression \n",
    "    # ch2 =  SelectKBest(chi2, k=90)\n",
    "    # X_train = ch2.fit_transform(X_train, y_train>1)\n",
    "    # X_test = ch2.transform(X_test)\n",
    "    # lm = linear_model.LinearRegression(fit_intercept = False)\n",
    "    # lm.fit(np.divide(X_train, matlib.repmat(y_train, 1,X_train.shape[1])), np.ones((y_train.shape[0], 1)))\n",
    "    # y_pred = np.round(lm.predict(X_test))\n",
    "    # # MAPE\n",
    "    # print(\"MAPE for Linear Regression + feature selection: %.4f\"\n",
    "    #      % mean_absolute_percentage_error(y_test, y_pred))"
   ]
  },
  {
   "cell_type": "code",
   "execution_count": 50,
   "metadata": {
    "collapsed": false
   },
   "outputs": [
    {
     "name": "stdout",
     "output_type": "stream",
     "text": [
      "training size:(58005L, 78L), test size:(28395L, 78L)\n",
      "features [(['day', 'dif_gap', 'gap_zone'], None), (['gap_past3', 'gap_past2', 'gap_past1'], None), (['request_past1', 'request_past2', 'request_past3'], None), (['accept_past1', 'accept_past2', 'accept_past3'], None), (['zone_id'], OneHotEncoder(categorical_features='all', dtype=<type 'float'>,\n",
      "       handle_unknown='error', n_values='auto', sparse=False))]\n",
      "MAPE for Linear Regression transfromed with zone_id: 0.2627\n",
      "MAPE for Linear Regression transfromed with zone_id and rounded: 0.2511\n"
     ]
    }
   ],
   "source": [
    "base_features = [(['day', 'dif_gap','gap_zone'], None),\n",
    "            (['gap_past3', 'gap_past2', 'gap_past1'], None),\n",
    "          (['request_past1', 'request_past2', 'request_past3'], None),\n",
    "          (['accept_past1', 'accept_past2', 'accept_past3'], None),          \n",
    "          (['zone_id'], sklearn.preprocessing.OneHotEncoder(sparse=False))]\n",
    "model_train_test(data, base_features)"
   ]
  },
  {
   "cell_type": "code",
   "execution_count": 51,
   "metadata": {
    "collapsed": false,
    "scrolled": true
   },
   "outputs": [
    {
     "name": "stdout",
     "output_type": "stream",
     "text": [
      "training size:(58005L, 90L), test size:(28395L, 90L)\n",
      "features [(['day', 'dif_gap', 'gap_zone'], None), (['gap_past3', 'gap_past2', 'gap_past1'], None), (['request_past1', 'request_past2', 'request_past3'], None), (['accept_past1', 'accept_past2', 'accept_past3'], None), (['zone_id'], OneHotEncoder(categorical_features='all', dtype=<type 'float'>,\n",
      "       handle_unknown='error', n_values='auto', sparse=False)), (['congestion_1_past1', 'congestion_2_past1', 'congestion_3_past1', 'congestion_4_past1'], Imputer(axis=0, copy=True, missing_values=0, strategy='mean', verbose=0)), (['congestion_1_past2', 'congestion_2_past2', 'congestion_3_past2', 'congestion_4_past2'], Imputer(axis=0, copy=True, missing_values=0, strategy='mean', verbose=0)), (['congestion_1_past3', 'congestion_2_past3', 'congestion_3_past3', 'congestion_4_past3'], Imputer(axis=0, copy=True, missing_values=0, strategy='mean', verbose=0))]\n",
      "MAPE for Linear Regression transfromed with zone_id: 0.2623\n",
      "MAPE for Linear Regression transfromed with zone_id and rounded: 0.2504\n"
     ]
    }
   ],
   "source": [
    "features=base_features + [(['congestion_1_past1', 'congestion_2_past1', 'congestion_3_past1', 'congestion_4_past1'], sklearn.preprocessing.Imputer(missing_values=0, strategy='mean', axis=0)),\n",
    "(['congestion_1_past2', 'congestion_2_past2', 'congestion_3_past2', 'congestion_4_past2'], sklearn.preprocessing.Imputer(missing_values=0, strategy='mean', axis=0)),\n",
    "(['congestion_1_past3', 'congestion_2_past3', 'congestion_3_past3', 'congestion_4_past3'], sklearn.preprocessing.Imputer(missing_values=0, strategy='mean', axis=0))]\n",
    "model_train_test(data, features)"
   ]
  },
  {
   "cell_type": "code",
   "execution_count": 52,
   "metadata": {
    "collapsed": false
   },
   "outputs": [
    {
     "name": "stdout",
     "output_type": "stream",
     "text": [
      "training size:(58005L, 117L), test size:(28395L, 117L)\n",
      "features [(['day', 'dif_gap', 'gap_zone'], None), (['gap_past3', 'gap_past2', 'gap_past1'], None), (['request_past1', 'request_past2', 'request_past3'], None), (['accept_past1', 'accept_past2', 'accept_past3'], None), (['zone_id'], OneHotEncoder(categorical_features='all', dtype=<type 'float'>,\n",
      "       handle_unknown='error', n_values='auto', sparse=False)), (['congestion_1_past1', 'congestion_2_past1', 'congestion_3_past1', 'congestion_4_past1'], Imputer(axis=0, copy=True, missing_values=0, strategy='mean', verbose=0)), (['congestion_1_past2', 'congestion_2_past2', 'congestion_3_past2', 'congestion_4_past2'], Imputer(axis=0, copy=True, missing_values=0, strategy='mean', verbose=0)), (['congestion_1_past3', 'congestion_2_past3', 'congestion_3_past3', 'congestion_4_past3'], Imputer(axis=0, copy=True, missing_values=0, strategy='mean', verbose=0)), (['weather_past1', 'weather_past2', 'weather_past3'], OneHotEncoder(categorical_features='all', dtype=<type 'float'>,\n",
      "       handle_unknown='error', n_values='auto', sparse=False)), (['temperature_past1', 'temperature_past2', 'temperature_past3'], Imputer(axis=0, copy=True, missing_values=0, strategy='mean', verbose=0)), (['pm25_past1', 'pm25_past2', 'pm25_past3'], Imputer(axis=0, copy=True, missing_values=0, strategy='mean', verbose=0))]\n",
      "MAPE for Linear Regression transfromed with zone_id: 0.2619\n",
      "MAPE for Linear Regression transfromed with zone_id and rounded: 0.2503\n"
     ]
    }
   ],
   "source": [
    "features = features + [(['weather_past1','weather_past2', 'weather_past3'], sklearn.preprocessing.OneHotEncoder(sparse=False)),\n",
    "                      (['temperature_past1','temperature_past2','temperature_past3'], sklearn.preprocessing.Imputer(missing_values=0, strategy='mean', axis=0)),\n",
    "                      (['pm25_past1','pm25_past2','pm25_past3'], sklearn.preprocessing.Imputer(missing_values=0, strategy='mean', axis=0))]\n",
    "model_train_test(data, features)"
   ]
  },
  {
   "cell_type": "code",
   "execution_count": 53,
   "metadata": {
    "collapsed": false
   },
   "outputs": [
    {
     "ename": "NameError",
     "evalue": "name 'feature_mapper' is not defined",
     "output_type": "error",
     "traceback": [
      "\u001b[1;31m---------------------------------------------------------------------------\u001b[0m",
      "\u001b[1;31mNameError\u001b[0m                                 Traceback (most recent call last)",
      "\u001b[1;32m<ipython-input-53-390a097cb09f>\u001b[0m in \u001b[0;36m<module>\u001b[1;34m()\u001b[0m\n\u001b[0;32m     35\u001b[0m         \u001b[0mslot\u001b[0m \u001b[1;33m=\u001b[0m \u001b[0mint\u001b[0m\u001b[1;33m(\u001b[0m\u001b[0mline\u001b[0m\u001b[1;33m[\u001b[0m\u001b[1;36m11\u001b[0m\u001b[1;33m:\u001b[0m\u001b[1;33m]\u001b[0m\u001b[1;33m)\u001b[0m\u001b[1;33m\u001b[0m\u001b[0m\n\u001b[0;32m     36\u001b[0m         \u001b[0mdata_oneday\u001b[0m \u001b[1;33m=\u001b[0m \u001b[0mtest_data\u001b[0m\u001b[1;33m.\u001b[0m\u001b[0mloc\u001b[0m\u001b[1;33m[\u001b[0m\u001b[1;33m(\u001b[0m\u001b[0mtest_data\u001b[0m\u001b[1;33m[\u001b[0m\u001b[1;34m'date'\u001b[0m\u001b[1;33m]\u001b[0m\u001b[1;33m==\u001b[0m\u001b[0mdate\u001b[0m\u001b[1;33m)\u001b[0m \u001b[1;33m&\u001b[0m \u001b[1;33m(\u001b[0m\u001b[0mtest_data\u001b[0m\u001b[1;33m[\u001b[0m\u001b[1;34m'time_slot'\u001b[0m\u001b[1;33m]\u001b[0m\u001b[1;33m==\u001b[0m\u001b[0mslot\u001b[0m\u001b[1;33m)\u001b[0m\u001b[1;33m]\u001b[0m\u001b[1;33m\u001b[0m\u001b[0m\n\u001b[1;32m---> 37\u001b[1;33m         \u001b[0mtest_x\u001b[0m \u001b[1;33m=\u001b[0m \u001b[0mfeature_mapper\u001b[0m\u001b[1;33m.\u001b[0m\u001b[0mfit_transform\u001b[0m\u001b[1;33m(\u001b[0m\u001b[0mdata_oneday\u001b[0m\u001b[1;33m.\u001b[0m\u001b[0mcopy\u001b[0m\u001b[1;33m(\u001b[0m\u001b[1;33m)\u001b[0m\u001b[1;33m)\u001b[0m\u001b[1;33m\u001b[0m\u001b[0m\n\u001b[0m\u001b[0;32m     38\u001b[0m         \u001b[0my_pred\u001b[0m \u001b[1;33m=\u001b[0m \u001b[0mnp\u001b[0m\u001b[1;33m.\u001b[0m\u001b[0mround\u001b[0m\u001b[1;33m(\u001b[0m\u001b[0mlm\u001b[0m\u001b[1;33m.\u001b[0m\u001b[0mpredict\u001b[0m\u001b[1;33m(\u001b[0m\u001b[0mtest_x\u001b[0m\u001b[1;33m)\u001b[0m\u001b[1;33m)\u001b[0m\u001b[1;33m\u001b[0m\u001b[0m\n\u001b[0;32m     39\u001b[0m         \u001b[0mabs_index\u001b[0m \u001b[1;33m=\u001b[0m \u001b[1;36m0\u001b[0m\u001b[1;33m\u001b[0m\u001b[0m\n",
      "\u001b[1;31mNameError\u001b[0m: name 'feature_mapper' is not defined"
     ]
    }
   ],
   "source": [
    "# output result\n",
    "def LoadClusterMap(filename):\n",
    "    \"\"\"\n",
    "    Build a cluster dictionary with key district hash and value zone id from reading filename.\n",
    "    \"\"\"\n",
    "    pattern = re.compile(\"[^\\t]+\")\n",
    "    with open(filename) as f:\n",
    "        lines = f.read().splitlines()\n",
    "\n",
    "    cluster_map = {}\n",
    "    for line in lines:\n",
    "        keyvalue = pattern.findall(line)\n",
    "        cluster_map[keyvalue[0]]=keyvalue[1]\n",
    "\n",
    "    return cluster_map \n",
    "\n",
    "def GetDay(date):\n",
    "    \"\"\"Convert string date to date\n",
    "    \"\"\"\n",
    "    dt = datetime.datetime.strptime(date, '%Y-%m-%d')\n",
    "    \n",
    "    return dt.day\n",
    "\n",
    "cluster_map =  LoadClusterMap('../season_1/test_set_2/cluster_map/cluster_map')\n",
    "\n",
    "test_data = pd.DataFrame.from_csv('test_data.csv', index_col=None)\n",
    "\n",
    "with open('../season_1/test_set_2/read_me_2.txt') as f:\n",
    "    lines = f.read().splitlines()[1:]\n",
    "\n",
    "test_result = pd.DataFrame()\n",
    "with open('testresult.csv', 'w') as f:\n",
    "    for line in lines:\n",
    "        date = line[0:10]\n",
    "        slot = int(line[11:])\n",
    "        data_oneday = test_data.loc[(test_data['date']==date) & (test_data['time_slot']==slot)]\n",
    "        test_x = feature_mapper.fit_transform(data_oneday.copy())\n",
    "        y_pred = np.round(lm.predict(test_x))\n",
    "        abs_index = 0\n",
    "        for i in data_oneday.index:\n",
    "            test_result = test_result.append(pd.DataFrame([[data_oneday.ix[i]['zone_id'], line, y_pred[abs_index,0]]]))\n",
    "            abs_index = abs_index + 1\n",
    "\n",
    "    test_result.to_csv(f, header=False, index=False)"
   ]
  },
  {
   "cell_type": "code",
   "execution_count": 56,
   "metadata": {
    "collapsed": false
   },
   "outputs": [],
   "source": [
    "def grad(param, x):\n",
    "    g = 0;\n",
    "    for i in range(0, x.shape[0]):\n",
    "        if np.dot(param, x[i,:]) > 1:\n",
    "            g = g+x\n",
    "        else:\n",
    "            g = g-x\n",
    "    return g\n",
    "            \n",
    "                    \n"
   ]
  },
  {
   "cell_type": "code",
   "execution_count": 54,
   "metadata": {
    "collapsed": false,
    "scrolled": true
   },
   "outputs": [
    {
     "ename": "IndexError",
     "evalue": "too many indices for array",
     "output_type": "error",
     "traceback": [
      "\u001b[1;31m---------------------------------------------------------------------------\u001b[0m",
      "\u001b[1;31mIndexError\u001b[0m                                Traceback (most recent call last)",
      "\u001b[1;32m<ipython-input-54-e36d4a5eee00>\u001b[0m in \u001b[0;36m<module>\u001b[1;34m()\u001b[0m\n\u001b[0;32m      1\u001b[0m \u001b[1;31m# experiment block for python gramma\u001b[0m\u001b[1;33m\u001b[0m\u001b[1;33m\u001b[0m\u001b[0m\n\u001b[1;32m----> 2\u001b[1;33m \u001b[0mnp\u001b[0m\u001b[1;33m.\u001b[0m\u001b[0mones\u001b[0m\u001b[1;33m(\u001b[0m\u001b[1;36m3\u001b[0m\u001b[1;33m)\u001b[0m\u001b[1;33m[\u001b[0m\u001b[1;36m0\u001b[0m\u001b[1;33m,\u001b[0m\u001b[1;33m:\u001b[0m\u001b[1;33m]\u001b[0m\u001b[1;33m\u001b[0m\u001b[0m\n\u001b[0m",
      "\u001b[1;31mIndexError\u001b[0m: too many indices for array"
     ]
    }
   ],
   "source": [
    "# experiment block for python gramma\n"
   ]
  }
 ],
 "metadata": {
  "kernelspec": {
   "display_name": "Python 2",
   "language": "python",
   "name": "python2"
  },
  "language_info": {
   "codemirror_mode": {
    "name": "ipython",
    "version": 2
   },
   "file_extension": ".py",
   "mimetype": "text/x-python",
   "name": "python",
   "nbconvert_exporter": "python",
   "pygments_lexer": "ipython2",
   "version": "2.7.11"
  }
 },
 "nbformat": 4,
 "nbformat_minor": 0
}
